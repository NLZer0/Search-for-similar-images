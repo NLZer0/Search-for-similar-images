{
 "cells": [
  {
   "cell_type": "code",
   "execution_count": 15,
   "metadata": {},
   "outputs": [],
   "source": [
    "\n",
    "import os \n",
    "\n",
    "import torch \n",
    "from torch import nn\n",
    "from torch.utils.data import DataLoader\n",
    "import torchvision\n",
    "from torchvision import datasets, transforms\n",
    "\n",
    "from tqdm.auto import tqdm\n",
    "import numpy as np\n",
    "import cv2\n",
    "import matplotlib.pyplot as plt\n",
    "\n",
    "from nn_module import DML"
   ]
  },
  {
   "cell_type": "code",
   "execution_count": 17,
   "metadata": {},
   "outputs": [],
   "source": [
    "down_width = 360  \n",
    "down_height = 360 \n",
    "\n",
    "data_X = []\n",
    "data_Y = []\n",
    "folder_names = os.listdir('test_data')\n",
    "\n",
    "class_targets = dict(zip(folder_names, range(len(folder_names))))\n",
    " \n",
    "for folder in folder_names:\n",
    "    for img_name in os.listdir(f'test_data/{folder}'):\n",
    "        img1 = cv2.imread(f'test_data/{folder}/{img_name}')\n",
    "        img1 = torch.FloatTensor(cv2.resize(img1, (down_width, down_height), interpolation=cv2.INTER_LINEAR))\n",
    "        data_X.append(img1.unsqueeze(0))\n",
    "        data_Y.append(class_targets[folder])\n",
    "\n",
    "data_X = torch.cat(data_X, axis=0)\n",
    "data_X = data_X.permute(0, 3, 1, 2)\n",
    "data_Y = torch.FloatTensor(data_Y)\n",
    "\n",
    "data_size = data_X.shape[0]"
   ]
  },
  {
   "cell_type": "code",
   "execution_count": 21,
   "metadata": {},
   "outputs": [],
   "source": [
    "device = torch.device(\"cuda\" if torch.cuda.is_available() else \"cpu\")\n",
    "\n",
    "# Set trunk model and replace the softmax layer with an identity function\n",
    "pretrain_resnet = torchvision.models.resnet18(pretrained=True)\n",
    "input_embedding_size = pretrain_resnet.fc.out_features\n",
    "pretrain_resnet = torch.nn.DataParallel(pretrain_resnet.to(device))"
   ]
  },
  {
   "cell_type": "code",
   "execution_count": 22,
   "metadata": {},
   "outputs": [
    {
     "data": {
      "application/vnd.jupyter.widget-view+json": {
       "model_id": "ee3357a8f2ce4883b533619a3805b852",
       "version_major": 2,
       "version_minor": 0
      },
      "text/plain": [
       "  0%|          | 0/30 [00:00<?, ?it/s]"
      ]
     },
     "metadata": {},
     "output_type": "display_data"
    }
   ],
   "source": [
    "data_loader = DataLoader(data_X, batch_size=10, shuffle=False)\n",
    "\n",
    "embeddings = torch.zeros((data_size, input_embedding_size))\n",
    "left_pointer = 0\n",
    "for batch in tqdm(data_loader):\n",
    "    embeddings[left_pointer:left_pointer+batch.shape[0]] = pretrain_resnet(batch).cpu()\n",
    "    left_pointer += batch.shape[0]"
   ]
  },
  {
   "cell_type": "code",
   "execution_count": null,
   "metadata": {},
   "outputs": [],
   "source": []
  }
 ],
 "metadata": {
  "kernelspec": {
   "display_name": "Python 3",
   "language": "python",
   "name": "python3"
  },
  "language_info": {
   "codemirror_mode": {
    "name": "ipython",
    "version": 3
   },
   "file_extension": ".py",
   "mimetype": "text/x-python",
   "name": "python",
   "nbconvert_exporter": "python",
   "pygments_lexer": "ipython3",
   "version": "3.12.0"
  }
 },
 "nbformat": 4,
 "nbformat_minor": 2
}
